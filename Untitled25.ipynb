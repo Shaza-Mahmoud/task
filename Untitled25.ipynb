{
 "cells": [
  {
   "cell_type": "code",
   "execution_count": 1,
   "id": "6d26a383",
   "metadata": {},
   "outputs": [
    {
     "name": "stdout",
     "output_type": "stream",
     "text": [
      "sequence PIANGERFD\n",
      "prefix PIAN\n",
      "suffix GERFD\n",
      "concatenated PIANGERFDPIANGERFD\n"
     ]
    }
   ],
   "source": [
    "from pyopenms import*\n",
    "seq = AASequence.fromString(\"PIANGERFD\")\n",
    "\n",
    "prefix = seq.getPrefix(4)\n",
    "suffix = seq.getSuffix(5)\n",
    "concat = seq + seq\n",
    "print(\"sequence\",seq)\n",
    "print(\"prefix\",prefix)\n",
    "print(\"suffix\",suffix)\n",
    "print(\"concatenated\",concat)\n",
    "\n",
    "\n"
   ]
  },
  {
   "cell_type": "code",
   "execution_count": 2,
   "id": "0645c678",
   "metadata": {},
   "outputs": [
    {
     "name": "stdout",
     "output_type": "stream",
     "text": [
      "Monoisotopic mass of peptide [M] is 1017.4879641372999\n",
      "Monoisotopic mass of peptide precursor [M+2H]2+ is 1019.5025170708419\n",
      "Monoisotopic m/z of [M+2H]2+ is 509.75125853542096\n"
     ]
    }
   ],
   "source": [
    "mfull = seq.getMonoWeight()\n",
    "\n",
    "mp = seq.getMonoWeight(Residue.ResidueType.Full , 2)\n",
    "\n",
    "mz = mp/2.0\n",
    "mz = seq.getMZ(2)\n",
    "print(\"Monoisotopic mass of peptide [M] is\", mfull)\n",
    "print(\"Monoisotopic mass of peptide precursor [M+2H]2+ is\", mp)\n",
    "print(\"Monoisotopic m/z of [M+2H]2+ is\", mz)"
   ]
  },
  {
   "cell_type": "code",
   "execution_count": 3,
   "id": "91a68978",
   "metadata": {},
   "outputs": [
    {
     "name": "stdout",
     "output_type": "stream",
     "text": [
      "the seq PIANGERFD consists of following amino acids\n",
      "Proline : 115.0633292871\n",
      "Isoleucine : 131.0946294147\n",
      "Alanine : 89.04767922330001\n",
      "Asparagine : 132.0534932552\n",
      "Glycine : 75.0320291595\n",
      "Glutamate : 147.05315928710002\n",
      "Arginine : 174.1116764466\n",
      "Phenylalanine : 165.0789793509\n",
      "Aspartate : 133.0375092233\n"
     ]
    }
   ],
   "source": [
    "print(\"the seq \" + str(seq) +\" consists of following amino acids\")\n",
    "for aa in seq:\n",
    "    print(aa.getName(),\":\",aa.getMonoWeight())"
   ]
  },
  {
   "cell_type": "code",
   "execution_count": 4,
   "id": "638c4181",
   "metadata": {},
   "outputs": [
    {
     "name": "stdout",
     "output_type": "stream",
     "text": [
      "the peptide  PIANGERFD  has the formula C44H67N13O15\n"
     ]
    }
   ],
   "source": [
    "seq_formula = seq.getFormula()\n",
    "print(\"the peptide \",seq,\" has the formula\",seq_formula)"
   ]
  },
  {
   "cell_type": "code",
   "execution_count": 8,
   "id": "47f69fe8",
   "metadata": {},
   "outputs": [
    {
     "name": "stdout",
     "output_type": "stream",
     "text": [
      "Y3 ion sequence  RFD\n",
      "y3 formula  C19H28N6O6\n",
      "y3 mz 219.110793913371\n"
     ]
    }
   ],
   "source": [
    "suffix = seq.getSuffix(3)\n",
    "print(\"Y3 ion sequence \" , suffix)\n",
    "y3_formula = suffix.getFormula(Residue.ResidueType.YIon,2)\n",
    "print(\"y3 formula \" , y3_formula)\n",
    "suffix.getMonoWeight(Residue.ResidueType.YIon,2) / 2.0\n",
    "suffix.getMonoWeight(Residue.ResidueType.XIon,2) / 2.0\n",
    "print(\"y3 mz\" , suffix.getMonoWeight(Residue.ResidueType.YIon,2) / 2.0)\n"
   ]
  },
  {
   "cell_type": "code",
   "execution_count": 9,
   "id": "f582132f",
   "metadata": {},
   "outputs": [
    {
     "name": "stdout",
     "output_type": "stream",
     "text": [
      "PEPTIDESEKUEMCER\n",
      "PEPTIDESEKUEM(Oxidation)CER\n",
      "PEPTIDESEKUEM(UniMod:35)CER\n",
      "PEPTIDESEKUEM[147]CER\n",
      "PEPTIDESEKUEM[147.03540001709996]CER\n",
      "---------\n",
      "DFPIAM(Oxidation)GER\n",
      "DFPIAM(Oxidation)GER\n",
      "DFPIAM(Oxidation)GER\n",
      "DFPIAM(Oxidation)GER\n",
      "DFPIAM(Oxidation)GER\n"
     ]
    }
   ],
   "source": [
    "seq = AASequence.fromString(\"PEPTIDESEKUEM(Oxidation)CER\")\n",
    "print(seq.toUnmodifiedString())\n",
    "print(seq.toString())\n",
    "print(seq.toUniModString())\n",
    "print(seq.toBracketString())\n",
    "print(seq.toBracketString(False))\n",
    "\n",
    "print(\"---------\")\n",
    "print(AASequence.fromString(\"DFPIAM(UniMod:35)GER\"))\n",
    "print(AASequence.fromString(\"DFPIAM[+16]GER\"))\n",
    "print(AASequence.fromString(\"DFPIAM[+15.99]GER\"))\n",
    "print(AASequence.fromString(\"DFPIAM[147]GER\"))\n",
    "print(AASequence.fromString(\"DFPIAM[147.035405]GER\"))"
   ]
  },
  {
   "cell_type": "code",
   "execution_count": 10,
   "id": "84965630",
   "metadata": {},
   "outputs": [],
   "source": [
    "bsa = FASTAEntry()\n",
    "bsa.sequence = \"MKWVTFISLLLLFSSAYSRGVFRRDTHKSEIAHRFKDLGE\"\n",
    "bsa.description = \"BSA Bovine Albumin (partial sequence)\"\n",
    "bsa.identifier= \"BSA\"\n",
    "\n",
    "alb = FASTAEntry()\n",
    "alb.sequence = \"MKWVTFISLLFLFSSAYSRGVFRRDAHKSEVAHRFKDLGE\"\n",
    "alb.description = \"ALB Human Albumin (partial sequence)\"\n",
    "alb.identifier = \"ALB\"\n",
    "\n",
    "entries = [bsa,alb]\n",
    "file = FASTAFile()\n",
    "file.store(\"examples.fasta\",entries)"
   ]
  },
  {
   "cell_type": "code",
   "execution_count": 11,
   "id": "6a1e89d8",
   "metadata": {},
   "outputs": [
    {
     "name": "stdout",
     "output_type": "stream",
     "text": [
      "2\n",
      "BSA Bovine Albumin (partial sequence) MKWVTFISLLLLFSSAYSRGVFRRDTHKSEIAHRFKDLGE\n",
      "ALB Human Albumin (partial sequence) MKWVTFISLLFLFSSAYSRGVFRRDAHKSEVAHRFKDLGE\n"
     ]
    }
   ],
   "source": [
    "entries = []\n",
    "file = FASTAFile()\n",
    "file.load(\"examples.fasta\",entries)\n",
    "print(len(entries))\n",
    "\n",
    "for entry in entries:\n",
    "    print(entry.description,entry.sequence)"
   ]
  },
  {
   "cell_type": "code",
   "execution_count": 14,
   "id": "cac91e4a",
   "metadata": {},
   "outputs": [
    {
     "name": "stdout",
     "output_type": "stream",
     "text": [
      "sum 441.2798662441\n",
      "Mass of sequence 389.26272398624207\n",
      "Mass of sequence 194.63136199312103\n"
     ]
    }
   ],
   "source": [
    "#task showing that mass(VAKA)=mass(V)+mass(A)+mass(K)+mass(A) true or false\n",
    "seq = AASequence.fromString(\"VAKA\")\n",
    "AASum = 0\n",
    "for aa in seq:\n",
    "    AASum += aa.getMonoWeight()\n",
    "    \n",
    "print(\"sum\",AASum)\n",
    "AAMass = seq.getMonoWeight(Residue.ResidueType.Full, 2)\n",
    "AAMass_MZ = seq.getMonoWeight(Residue.ResidueType.Full, 2)/2.0\n",
    "print(\"Mass of sequence\",AAMass)\n",
    "print(\"Mass of sequence\",AAMass_MZ)"
   ]
  },
  {
   "cell_type": "code",
   "execution_count": null,
   "id": "39d438c9",
   "metadata": {},
   "outputs": [],
   "source": []
  }
 ],
 "metadata": {
  "kernelspec": {
   "display_name": "Python 3 (ipykernel)",
   "language": "python",
   "name": "python3"
  },
  "language_info": {
   "codemirror_mode": {
    "name": "ipython",
    "version": 3
   },
   "file_extension": ".py",
   "mimetype": "text/x-python",
   "name": "python",
   "nbconvert_exporter": "python",
   "pygments_lexer": "ipython3",
   "version": "3.9.7"
  }
 },
 "nbformat": 4,
 "nbformat_minor": 5
}
